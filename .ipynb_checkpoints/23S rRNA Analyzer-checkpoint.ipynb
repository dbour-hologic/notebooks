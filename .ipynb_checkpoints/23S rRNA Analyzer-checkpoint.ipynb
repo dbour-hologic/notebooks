{
 "cells": [
  {
   "cell_type": "markdown",
   "metadata": {},
   "source": [
    "# 23S rRNA Discovery"
   ]
  },
  {
   "cell_type": "markdown",
   "metadata": {},
   "source": [
    "The purpose of this experiment is to extract all 23S rRNA related data from NCBI/Genbank files. The 23S rRNA is another conserved region in bacteria we can attempt to use for designing scientific assays to detect the specific region as it is thought of as having conserved and unique regions across all bacterial species; allowing us to detect and discriminate between different bacterias within a sample.\n",
    "\n",
    "Biopython will be used to interact with the Entrez API to extract a list of predetermined bacterial species we want. The dataset used for this experiment will be for the vaginal microbiome, approximately 900+ species have been identified residing in the vaginal microbiome according to past studies such as ones done for the analysis of the causitive mechanism of bacterial vaginosis."
   ]
  },
  {
   "cell_type": "markdown",
   "metadata": {},
   "source": [
    "### Data Exploration"
   ]
  },
  {
   "cell_type": "markdown",
   "metadata": {},
   "source": [
    "Let's read in the data"
   ]
  },
  {
   "cell_type": "code",
   "execution_count": null,
   "metadata": {
    "collapsed": false,
    "scrolled": true
   },
   "outputs": [],
   "source": [
    "import os\n",
    "\n",
    "# SETTINGS\n",
    "\"\"\" Directory Structure\n",
    "\n",
    "../downloads/<date of data>\n",
    "\n",
    "\"\"\"\n",
    "DIRECTORY_MAIN = 'downloads'\n",
    "DIRECTORY_DATE = 'test'\n",
    "DIRECTORY_SAVE = 'results'\n",
    "DIRECTORY_PATH = os.path.join(DIRECTORY_MAIN, DIRECTORY_DATE)\n",
    "DIRECTORY_SAVE_PATH = os.path.join(DIRECTORY_MAIN, DIRECTORY_DATE, DIRECTORY_SAVE)"
   ]
  },
  {
   "cell_type": "code",
   "execution_count": null,
   "metadata": {
    "collapsed": false
   },
   "outputs": [],
   "source": [
    "from Bio import SeqIO\n",
    "from Bio.SeqRecord import SeqRecord\n",
    "\n",
    "# Holds a list of SeqRecord ojects for writing \n",
    "seq_record_list = []\n",
    "\n",
    "def parse_record(genbankfile):\n",
    "    \"\"\" Reads the Genbank Files \n",
    "    \n",
    "    Args:\n",
    "        genbankfile - *.gbk file\n",
    "    Returns:\n",
    "        seq_location - gene of interest\n",
    "    \"\"\"\n",
    "    \n",
    "    # Iterates over a single Genbank file; can contain multiple Genbank entries per file\n",
    "    for record in SeqIO.parse(genbankfile, 'gb'):\n",
    "        parse_features(record)\n",
    "\n",
    "def parse_features(genbankrecord):\n",
    "    \n",
    "    \"\"\" Reads in the entire seq feature\n",
    "    and extracts only the ones we want; in this case\n",
    "    the 23S rRNA feature.\n",
    "    \n",
    "    Args:\n",
    "        genbankrecord (SeqRecord) - individual genbank record\n",
    "    \"\"\"\n",
    "    \n",
    "    INTERESTED_FEATURE = 'rRNA'\n",
    "    # If any type of 23S rRNA is found, this is marked as True\n",
    "    FEATURE_PRESENT = False\n",
    "    \n",
    "    # Iterates over a single Genbank entry's features\n",
    "    for items in genbankrecord.features:\n",
    "        if items.type == 'rRNA':\n",
    "            try:\n",
    "                # The type of rRNA is most of the time classified under 'product' or 'gene'\n",
    "                if (items.qualifiers['product'][0].lower().find('23s')>-1 or\n",
    "                    items.qualifiers['gene'][0].lower().find('23s')>-1):\n",
    "                    \n",
    "                    FEATURE_PRESENT = True\n",
    "                    \n",
    "                    # Create the SeqRecord Object\n",
    "                    query_seq = items.extract(genbankrecord.seq)\n",
    "                    query_id = genbankrecord.name\n",
    "                    query_name = genbankrecord.annotations['organism'].replace(\" \",\"_\")\n",
    "                    seq_create = SeqRecord(query_seq, id=query_id, description=query_name)\n",
    "                    seq_record_list.append(seq_create)\n",
    "             \n",
    "            # Some entries may not have any entries for product; could be formatting of entries\n",
    "            # Currently the one sure way to determine the rRNA type is 23S\n",
    "            except KeyError:\n",
    "#                 print(\"Error, no rRNA product.\", items, genbankrecord.name)\n",
    "                continue\n",
    "    \n",
    "    # If sequence is present, write out the sequences\n",
    "    if FEATURE_PRESENT:\n",
    "        write_to_fasta(seq_record_list, query_name)\n",
    "    \n",
    "def write_to_fasta(seq_list, save_as):\n",
    "    \"\"\" Creates and writes out a SeqRecord Object\n",
    "    to FASTA format\n",
    "    \n",
    "    Args:\n",
    "        query_seq (List of SeqRecords) - write to FASTA\n",
    "        save_as (str) - name of FASTA file to save as\n",
    "    \"\"\"\n",
    "    \n",
    "    import re\n",
    "    \n",
    "    # For removing special characters in file name\n",
    "    pattern = re.compile(\"[^\\w.\\s]\")\n",
    "    file_name = pattern.sub('', save_as)\n",
    "    file_name += \".fasta\"\n",
    "    \n",
    "    save_dir = os.path.join(os.getcwd(), DIRECTORY_SAVE_PATH, file_name)\n",
    "    SeqIO.write(seq_list, save_dir, 'fasta')\n",
    " \n",
    "        \n"
   ]
  },
  {
   "cell_type": "code",
   "execution_count": null,
   "metadata": {
    "collapsed": false
   },
   "outputs": [],
   "source": [
    "def run(directory):\n",
    "    \"\"\" Read all of the files within the directory.\n",
    "    \n",
    "    Args:\n",
    "        directory - the directory containing the genbank files\n",
    "    \"\"\"\n",
    "    \n",
    "    for files in os.listdir(directory):\n",
    "        file_dir = os.path.join(DIRECTORY_PATH, files)\n",
    "        parse_record(file_dir)\n",
    "\n",
    "run(DIRECTORY_PATH)"
   ]
  },
  {
   "cell_type": "code",
   "execution_count": null,
   "metadata": {
    "collapsed": true
   },
   "outputs": [],
   "source": []
  },
  {
   "cell_type": "code",
   "execution_count": null,
   "metadata": {
    "collapsed": true
   },
   "outputs": [],
   "source": []
  },
  {
   "cell_type": "code",
   "execution_count": null,
   "metadata": {
    "collapsed": true
   },
   "outputs": [],
   "source": []
  }
 ],
 "metadata": {
  "kernelspec": {
   "display_name": "Python 3",
   "language": "python",
   "name": "python3"
  },
  "language_info": {
   "codemirror_mode": {
    "name": "ipython",
    "version": 3
   },
   "file_extension": ".py",
   "mimetype": "text/x-python",
   "name": "python",
   "nbconvert_exporter": "python",
   "pygments_lexer": "ipython3",
   "version": "3.5.1"
  }
 },
 "nbformat": 4,
 "nbformat_minor": 0
}
