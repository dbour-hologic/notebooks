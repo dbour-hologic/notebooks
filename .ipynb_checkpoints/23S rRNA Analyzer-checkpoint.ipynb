{
 "cells": [
  {
   "cell_type": "markdown",
   "metadata": {},
   "source": [
    "# 23S rRNA Discovery"
   ]
  },
  {
   "cell_type": "markdown",
   "metadata": {},
   "source": [
    "The purpose of this experiment is to extract all 23S rRNA related data from NCBI/Genbank files. The 23S rRNA is another conserved region in bacteria we can attempt to use for designing scientific assays to detect the specific region as it is thought of as having conserved and unique regions across all bacterial species; allowing us to detect and discriminate between different bacterias within a sample.\n",
    "\n",
    "Biopython will be used to interact with the Entrez API to extract a list of predetermined bacterial species we want. The dataset used for this experiment will be for the vaginal microbiome, approximately 900+ species have been identified residing in the vaginal microbiome according to past studies such as ones done for the analysis of the causitive mechanism of bacterial vaginosis."
   ]
  },
  {
   "cell_type": "markdown",
   "metadata": {},
   "source": [
    "### Data Exploration"
   ]
  },
  {
   "cell_type": "markdown",
   "metadata": {},
   "source": [
    "Let's read in the data"
   ]
  },
  {
   "cell_type": "code",
   "execution_count": null,
   "metadata": {
    "collapsed": false,
    "scrolled": true
   },
   "outputs": [],
   "source": [
    "import os\n",
    "\n",
    "# SETTINGS\n",
    "\"\"\" Directory Structure\n",
    "\n",
    "../downloads/<date of data>\n",
    "\n",
    "\"\"\"\n",
    "DIRECTORY_MAIN = 'downloads'\n",
    "DIRECTORY_DATE = 'test'\n",
    "DIRECTORY_PATH = os.path.join(DIRECTORY_MAIN, DIRECTORY_DATE)"
   ]
  },
  {
   "cell_type": "code",
   "execution_count": null,
   "metadata": {
    "collapsed": true
   },
   "outputs": [],
   "source": [
    "from Bio import SeqIO\n",
    "from Bio.SeqRecord import SeqRecord\n",
    "\n",
    "def parse_record(genbankfile):\n",
    "    \"\"\" Reads the Genbank Files \n",
    "    \n",
    "    Args:\n",
    "        genbankfile - *.gbk file\n",
    "    Returns:\n",
    "        seq_location - gene of interest\n",
    "    \"\"\"\n",
    "    for record in SeqIO.parse(genbankfile, 'gb'):\n",
    "        print(\"Searching record \", record.description[:10])\n",
    "        parse_features(record)\n",
    "\n",
    "def parse_features(genbankrecord):\n",
    "    \"\"\" Reads in the entire seq feature\n",
    "    and extracts only the ones we want; in this case\n",
    "    the 23S rRNA feature.\n",
    "    \n",
    "    Args:\n",
    "        genbankrecord - individual genbank record\n",
    "    \"\"\"\n",
    "    INTERESTED_FEATURE = 'rRNA'\n",
    "    FEATURE_PRESENT = False\n",
    "    print(genbankrecord.annotations)\n",
    "    for features in genbankrecord.features:\n",
    "        print(features)\n",
    "        if features.type == 'rRNA':\n",
    "            try:\n",
    "                if(features.qualifiers['product'][0].lower().find('23s')>-1):\n",
    "                    print(gene.qualifiers['product'][0])\n",
    "                    print(gene.location)\n",
    "                    return [1]\n",
    "                else:\n",
    "                    return []\n",
    "            except KeyError:\n",
    "                print(\"ERROR>> \", features)\n",
    "                return []\n",
    "                \n",
    "        else:\n",
    "            print(\"none found\")\n",
    "            return []\n"
   ]
  },
  {
   "cell_type": "code",
   "execution_count": 11,
   "metadata": {
    "collapsed": false
   },
   "outputs": [
    {
     "name": "stdout",
     "output_type": "stream",
     "text": [
      "Searching record  Fusobacter\n",
      "['__add__', '__bool__', '__class__', '__contains__', '__delattr__', '__dict__', '__dir__', '__doc__', '__eq__', '__format__', '__ge__', '__getattribute__', '__getitem__', '__gt__', '__hash__', '__init__', '__iter__', '__le__', '__len__', '__lt__', '__module__', '__ne__', '__new__', '__nonzero__', '__radd__', '__reduce__', '__reduce_ex__', '__repr__', '__setattr__', '__sizeof__', '__str__', '__subclasshook__', '__weakref__', '_per_letter_annotations', '_seq', '_set_per_letter_annotations', '_set_seq', 'annotations', 'dbxrefs', 'description', 'features', 'format', 'id', 'letter_annotations', 'lower', 'name', 'reverse_complement', 'seq', 'upper']\n",
      "type: source\n",
      "location: [0:1451](+)\n",
      "qualifiers:\n",
      "    Key: culture_collection, Value: ['ATCC:25533']\n",
      "    Key: db_xref, Value: ['taxon:854']\n",
      "    Key: mol_type, Value: ['rRNA']\n",
      "    Key: organism, Value: ['Fusobacterium russii']\n",
      "    Key: strain, Value: ['ATCC 25533']\n",
      "\n",
      "none found\n",
      "Searching record  Fusobacter\n",
      "['__add__', '__bool__', '__class__', '__contains__', '__delattr__', '__dict__', '__dir__', '__doc__', '__eq__', '__format__', '__ge__', '__getattribute__', '__getitem__', '__gt__', '__hash__', '__init__', '__iter__', '__le__', '__len__', '__lt__', '__module__', '__ne__', '__new__', '__nonzero__', '__radd__', '__reduce__', '__reduce_ex__', '__repr__', '__setattr__', '__sizeof__', '__str__', '__subclasshook__', '__weakref__', '_per_letter_annotations', '_seq', '_set_per_letter_annotations', '_set_seq', 'annotations', 'dbxrefs', 'description', 'features', 'format', 'id', 'letter_annotations', 'lower', 'name', 'reverse_complement', 'seq', 'upper']\n",
      "type: source\n",
      "location: [0:1451](+)\n",
      "qualifiers:\n",
      "    Key: culture_collection, Value: ['ATCC:25533']\n",
      "    Key: db_xref, Value: ['taxon:854']\n",
      "    Key: mol_type, Value: ['genomic DNA']\n",
      "    Key: note, Value: ['type strain of Fusobacterium russii']\n",
      "    Key: organism, Value: ['Fusobacterium russii']\n",
      "    Key: strain, Value: ['ATCC 25533']\n",
      "\n",
      "none found\n",
      "Searching record  Fusobacter\n",
      "['__add__', '__bool__', '__class__', '__contains__', '__delattr__', '__dict__', '__dir__', '__doc__', '__eq__', '__format__', '__ge__', '__getattribute__', '__getitem__', '__gt__', '__hash__', '__init__', '__iter__', '__le__', '__len__', '__lt__', '__module__', '__ne__', '__new__', '__nonzero__', '__radd__', '__reduce__', '__reduce_ex__', '__repr__', '__setattr__', '__sizeof__', '__str__', '__subclasshook__', '__weakref__', '_per_letter_annotations', '_seq', '_set_per_letter_annotations', '_set_seq', 'annotations', 'dbxrefs', 'description', 'features', 'format', 'id', 'letter_annotations', 'lower', 'name', 'reverse_complement', 'seq', 'upper']\n",
      "type: source\n",
      "location: [0:724](+)\n",
      "qualifiers:\n",
      "    Key: db_xref, Value: ['ATCC:25533', 'taxon:854']\n",
      "    Key: mol_type, Value: ['genomic DNA']\n",
      "    Key: organism, Value: ['Fusobacterium russii']\n",
      "    Key: strain, Value: ['ATCC 25533']\n",
      "\n",
      "none found\n",
      "Searching record  Fusobacter\n",
      "['__add__', '__bool__', '__class__', '__contains__', '__delattr__', '__dict__', '__dir__', '__doc__', '__eq__', '__format__', '__ge__', '__getattribute__', '__getitem__', '__gt__', '__hash__', '__init__', '__iter__', '__le__', '__len__', '__lt__', '__module__', '__ne__', '__new__', '__nonzero__', '__radd__', '__reduce__', '__reduce_ex__', '__repr__', '__setattr__', '__sizeof__', '__str__', '__subclasshook__', '__weakref__', '_per_letter_annotations', '_seq', '_set_per_letter_annotations', '_set_seq', 'annotations', 'dbxrefs', 'description', 'features', 'format', 'id', 'letter_annotations', 'lower', 'name', 'reverse_complement', 'seq', 'upper']\n",
      "type: source\n",
      "location: [0:1332](+)\n",
      "qualifiers:\n",
      "    Key: db_xref, Value: ['taxon:854']\n",
      "    Key: mol_type, Value: ['genomic DNA']\n",
      "    Key: organism, Value: ['Fusobacterium russii']\n",
      "    Key: strain, Value: ['ATCC 25533T']\n",
      "\n",
      "none found\n"
     ]
    }
   ],
   "source": [
    "def run(directory):\n",
    "    \"\"\" Read all of the files within the directory.\n",
    "    \n",
    "    Args:\n",
    "        directory - the directory containing the genbank files\n",
    "    \"\"\"\n",
    "    \n",
    "    for files in os.listdir(directory):\n",
    "        file_dir = os.path.join(DIRECTORY_PATH, files)\n",
    "        #print(file_dir)\n",
    "        parse_record(file_dir)\n",
    "        break\n",
    "        \n",
    "run(DIRECTORY_PATH)"
   ]
  },
  {
   "cell_type": "code",
   "execution_count": null,
   "metadata": {
    "collapsed": true
   },
   "outputs": [],
   "source": []
  },
  {
   "cell_type": "code",
   "execution_count": null,
   "metadata": {
    "collapsed": true
   },
   "outputs": [],
   "source": []
  }
 ],
 "metadata": {
  "kernelspec": {
   "display_name": "Python 3",
   "language": "python",
   "name": "python3"
  },
  "language_info": {
   "codemirror_mode": {
    "name": "ipython",
    "version": 3
   },
   "file_extension": ".py",
   "mimetype": "text/x-python",
   "name": "python",
   "nbconvert_exporter": "python",
   "pygments_lexer": "ipython3",
   "version": "3.5.1"
  }
 },
 "nbformat": 4,
 "nbformat_minor": 0
}
